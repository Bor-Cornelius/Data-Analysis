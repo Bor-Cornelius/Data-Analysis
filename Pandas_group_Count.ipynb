{
 "cells": [
  {
   "cell_type": "code",
   "execution_count": 2,
   "id": "documentary-horizontal",
   "metadata": {},
   "outputs": [],
   "source": [
    "import pandas as pd\n",
    "import numpy as np"
   ]
  },
  {
   "cell_type": "code",
   "execution_count": 5,
   "id": "professional-uruguay",
   "metadata": {},
   "outputs": [],
   "source": [
    "df = pd.read_csv(\"Mc_Meters.csv\")"
   ]
  },
  {
   "cell_type": "code",
   "execution_count": 15,
   "id": "cordless-official",
   "metadata": {},
   "outputs": [],
   "source": [
    "Firmware = df.groupby(\"Firmware\").count()\n",
    "\n",
    "Firmwares = Firmware.drop(columns=[\"Meter IP\",\"Sensor Type\",\"Sim Card Iccid\"])\n"
   ]
  },
  {
   "cell_type": "code",
   "execution_count": 14,
   "id": "extreme-bleeding",
   "metadata": {},
   "outputs": [],
   "source": [
    "Firmwares.to_csv(\"Firmware_Count.csv\")"
   ]
  }
 ],
 "metadata": {
  "kernelspec": {
   "display_name": "Python 3",
   "language": "python",
   "name": "python3"
  },
  "language_info": {
   "codemirror_mode": {
    "name": "ipython",
    "version": 3
   },
   "file_extension": ".py",
   "mimetype": "text/x-python",
   "name": "python",
   "nbconvert_exporter": "python",
   "pygments_lexer": "ipython3",
   "version": "3.7.3"
  }
 },
 "nbformat": 4,
 "nbformat_minor": 5
}
